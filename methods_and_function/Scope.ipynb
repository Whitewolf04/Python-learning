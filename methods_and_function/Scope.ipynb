{
 "cells": [
  {
   "cell_type": "markdown",
   "metadata": {},
   "source": [
    "LEGB Rule:\n",
    "- Local: Name assigned in any way within a function (def or lambda), and not declared global in that function\n",
    "- Enclosing function locals: Names in the local scope of any and all enclosing functions(def or lambda), from inner to outer\n",
    "- Global (module): Names assigned at the top level of a module file, or declared global in a def within a file\n",
    "- Built-in (Python): Names pre-assigned in the built-in names module: open, range, SyntaxError, ..."
   ]
  },
  {
   "cell_type": "markdown",
   "metadata": {},
   "source": [
    "Example:"
   ]
  },
  {
   "cell_type": "code",
   "execution_count": 2,
   "metadata": {},
   "outputs": [
    {
     "name": "stdout",
     "output_type": "stream",
     "text": [
      "Hello Johnny\n"
     ]
    }
   ],
   "source": [
    "name = \"This is a global string\"\n",
    "#Global variable\n",
    "\n",
    "def greet():\n",
    "    name = \"Sammy\"\n",
    "    #Enclosing variable\n",
    "    \n",
    "    def hello():\n",
    "        name = \"Johnny\"\n",
    "        #Local variable\n",
    "        print(\"Hello \" + name)\n",
    "    hello()\n",
    "    \n",
    "greet()"
   ]
  },
  {
   "cell_type": "markdown",
   "metadata": {},
   "source": [
    "Using the global keyword:"
   ]
  },
  {
   "cell_type": "code",
   "execution_count": 3,
   "metadata": {},
   "outputs": [],
   "source": [
    "x = 50\n",
    "\n",
    "def myfunc():\n",
    "    global x\n",
    "    print(f'My global value X is {x}')\n",
    "    \n",
    "    x = \"NEW Value\"\n",
    "    print(f'I just locally changed my Global variable to {x}')"
   ]
  },
  {
   "cell_type": "code",
   "execution_count": 5,
   "metadata": {},
   "outputs": [
    {
     "name": "stdout",
     "output_type": "stream",
     "text": [
      "My global value X is 50\n",
      "I just locally changed my Global variable to NEW Value\n"
     ]
    }
   ],
   "source": [
    "myfunc()"
   ]
  },
  {
   "cell_type": "code",
   "execution_count": 6,
   "metadata": {},
   "outputs": [
    {
     "name": "stdout",
     "output_type": "stream",
     "text": [
      "NEW Value\n"
     ]
    }
   ],
   "source": [
    "print(x)"
   ]
  },
  {
   "cell_type": "code",
   "execution_count": null,
   "metadata": {},
   "outputs": [],
   "source": []
  }
 ],
 "metadata": {
  "kernelspec": {
   "display_name": "Python 3",
   "language": "python",
   "name": "python3"
  },
  "language_info": {
   "codemirror_mode": {
    "name": "ipython",
    "version": 3
   },
   "file_extension": ".py",
   "mimetype": "text/x-python",
   "name": "python",
   "nbconvert_exporter": "python",
   "pygments_lexer": "ipython3",
   "version": "3.7.1"
  }
 },
 "nbformat": 4,
 "nbformat_minor": 2
}
