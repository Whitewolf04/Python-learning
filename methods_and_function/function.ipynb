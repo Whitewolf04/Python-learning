{
 "cells": [
  {
   "cell_type": "markdown",
   "metadata": {},
   "source": [
    "PIG Latin:\n",
    "- If word start with a vowel, add \"ay\" to the end\n",
    "- If word doesn't start with a vowel, take the fist letter and put it to the end and add \"ay\"\n",
    "- word -> ordway\n",
    "- apple -> appleay"
   ]
  },
  {
   "cell_type": "code",
   "execution_count": 13,
   "metadata": {},
   "outputs": [
    {
     "data": {
      "text/plain": [
       "'appleay'"
      ]
     },
     "execution_count": 13,
     "metadata": {},
     "output_type": "execute_result"
    }
   ],
   "source": [
    "def pig_latin_translator(word):\n",
    "    first_letter = word[0]\n",
    "    \n",
    "    if first_letter in 'aeiou':\n",
    "        pig_word = word + 'ay'\n",
    "    else:\n",
    "        pig_word = word[1:] + first_letter + \"ay\"\n",
    "    \n",
    "    return pig_word\n",
    "\n",
    "pig_latin_translator('apple')"
   ]
  },
  {
   "cell_type": "markdown",
   "metadata": {},
   "source": [
    "How to pass in a lot of arguments in a func parameter:"
   ]
  },
  {
   "cell_type": "code",
   "execution_count": 14,
   "metadata": {},
   "outputs": [
    {
     "data": {
      "text/plain": [
       "810.4200000000001"
      ]
     },
     "execution_count": 14,
     "metadata": {},
     "output_type": "execute_result"
    }
   ],
   "source": [
    "def tax(*args):\n",
    "    return sum(args) * 0.13\n",
    "\n",
    "tax(50, 65, 2342, 234, 543, 3000)"
   ]
  },
  {
   "cell_type": "markdown",
   "metadata": {},
   "source": [
    "How to pass in a dictionary in a func parameter:"
   ]
  },
  {
   "cell_type": "code",
   "execution_count": 15,
   "metadata": {},
   "outputs": [
    {
     "name": "stdout",
     "output_type": "stream",
     "text": [
      "My brother is Bomman\n"
     ]
    }
   ],
   "source": [
    "def myfunc(**kwargs):\n",
    "    if \"csgo\" in kwargs:\n",
    "        print(\"My brother is {}\".format(kwargs['csgo']))\n",
    "    else:\n",
    "        print(\"My brother is not here\")\n",
    "\n",
    "myfunc(csgo = 'Bomman', troller = 'APho')"
   ]
  },
  {
   "cell_type": "markdown",
   "metadata": {},
   "source": [
    "Combining the two:"
   ]
  },
  {
   "cell_type": "code",
   "execution_count": 1,
   "metadata": {},
   "outputs": [
    {
     "name": "stdout",
     "output_type": "stream",
     "text": [
      "(10, 20, 30)\n",
      "{'fruit': 'orange', 'food': 'Pho', 'animal': 'dog'}\n",
      "I would like 10 Pho\n"
     ]
    }
   ],
   "source": [
    "def myfunc2(*args, **kwargs):\n",
    "    print(args)\n",
    "    print(kwargs)\n",
    "    print(\"I would like {} {}\".format(args[0], kwargs['food']))\n",
    "    \n",
    "myfunc2(10, 20, 30, fruit = 'orange', food = 'Pho', animal = 'dog')"
   ]
  },
  {
   "cell_type": "code",
   "execution_count": null,
   "metadata": {},
   "outputs": [],
   "source": []
  }
 ],
 "metadata": {
  "kernelspec": {
   "display_name": "Python 3",
   "language": "python",
   "name": "python3"
  },
  "language_info": {
   "codemirror_mode": {
    "name": "ipython",
    "version": 3
   },
   "file_extension": ".py",
   "mimetype": "text/x-python",
   "name": "python",
   "nbconvert_exporter": "python",
   "pygments_lexer": "ipython3",
   "version": "3.7.1"
  }
 },
 "nbformat": 4,
 "nbformat_minor": 2
}
