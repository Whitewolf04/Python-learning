{
 "cells": [
  {
   "cell_type": "code",
   "execution_count": 1,
   "metadata": {},
   "outputs": [
    {
     "name": "stdout",
     "output_type": "stream",
     "text": [
      "(0.2974855601787567, -0.07431989908218384)\n"
     ]
    }
   ],
   "source": [
    "import json\n",
    "import pprint\n",
    "import math\n",
    "\n",
    "def json_r (filename):\n",
    "    with open(filename) as f_in:\n",
    "        return (json.load(f_in))\n",
    "    \n",
    "pose_estimation = json_r('json-qhvui_aqlo.json')\n",
    "man_pose = pose_estimation['frames'][0]['persons'][0]\n",
    "\n",
    "turn_left = False\n",
    "turn_right = False\n",
    "angle = 0\n",
    "\n",
    "left_wristX = man_pose['pose2d']['joints'][30]\n",
    "left_wristY = man_pose['pose2d']['joints'][31]\n",
    "\n",
    "right_wristX = man_pose['pose2d']['joints'][20]\n",
    "right_wristY = man_pose['pose2d']['joints'][21]\n",
    "\n",
    "#Calculate the distane between two hands for calculating angle\n",
    "vectorOfHand = (left_wristX - right_wristX, left_wristY - right_wristY)\n",
    "distanceOfHands = math.sqrt(vectorOfHand[0]**2 + vectorOfHand[1]**2)\n",
    "#Underhand Assessment\n",
    "if vectorOfHand[0] > 0:\n",
    "    angle = (math.acos(vectorOfHand[0]/distanceOfHands) * (180/math.pi))\n",
    "    if vectorOfHand[1] > 0 and angle >= 10:\n",
    "        turn_left = True\n",
    "    elif vectorOfHand[1] < 0 and angle >= 10:\n",
    "        turn_right = True\n",
    "#Overhand Asssessment\n",
    "elif vectorOfHand[0] < 0:\n",
    "    angle = math.acos(-vectorOfHand[0]/distanceOfHands) * (180/math.pi)\n",
    "    if vectorOfHand[1] > 0 and angle < 90 and angle > 60:\n",
    "        turn_left = True\n",
    "    if vectorOfHand[1] < 0 and angle < 90 and angle > 60:\n",
    "        turn_right = True\n",
    "else:\n",
    "    if vectorOfHand[1] > 0:\n",
    "        turn_left = True\n",
    "    elif vectorOfHand[1] < 0:\n",
    "        turn_right = True\n",
    "\n"
   ]
  },
  {
   "cell_type": "code",
   "execution_count": null,
   "metadata": {},
   "outputs": [],
   "source": []
  }
 ],
 "metadata": {
  "kernelspec": {
   "display_name": "Python 3",
   "language": "python",
   "name": "python3"
  },
  "language_info": {
   "codemirror_mode": {
    "name": "ipython",
    "version": 3
   },
   "file_extension": ".py",
   "mimetype": "text/x-python",
   "name": "python",
   "nbconvert_exporter": "python",
   "pygments_lexer": "ipython3",
   "version": "3.7.1"
  }
 },
 "nbformat": 4,
 "nbformat_minor": 2
}
