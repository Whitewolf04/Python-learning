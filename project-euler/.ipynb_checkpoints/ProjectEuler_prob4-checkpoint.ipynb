{
 "cells": [
  {
   "cell_type": "code",
   "execution_count": 8,
   "metadata": {},
   "outputs": [
    {
     "name": "stdout",
     "output_type": "stream",
     "text": [
      "819918\n",
      "902 909\n",
      "824428\n",
      "902 914\n",
      "819918\n",
      "909 902\n",
      "906609\n",
      "913 993\n",
      "824428\n",
      "914 902\n",
      "886688\n",
      "916 968\n",
      "861168\n",
      "924 932\n",
      "888888\n",
      "924 962\n",
      "861168\n",
      "932 924\n",
      "888888\n",
      "962 924\n",
      "886688\n",
      "968 916\n",
      "906609\n",
      "993 913\n"
     ]
    }
   ],
   "source": [
    "mylist = list(range(900, 1000)) \n",
    "\n",
    "for x in mylist:\n",
    "    for y in mylist:\n",
    "        if str(x*y) == str(x*y)[::-1]:\n",
    "            print(x*y)\n",
    "            print(x, y)\n",
    "        else:\n",
    "            continue"
   ]
  },
  {
   "cell_type": "code",
   "execution_count": null,
   "metadata": {},
   "outputs": [],
   "source": []
  }
 ],
 "metadata": {
  "kernelspec": {
   "display_name": "Python 3",
   "language": "python",
   "name": "python3"
  },
  "language_info": {
   "codemirror_mode": {
    "name": "ipython",
    "version": 3
   },
   "file_extension": ".py",
   "mimetype": "text/x-python",
   "name": "python",
   "nbconvert_exporter": "python",
   "pygments_lexer": "ipython3",
   "version": "3.7.1"
  }
 },
 "nbformat": 4,
 "nbformat_minor": 2
}
