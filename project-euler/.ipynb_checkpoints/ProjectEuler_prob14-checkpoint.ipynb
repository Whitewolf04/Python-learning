{
 "cells": [
  {
   "cell_type": "code",
   "execution_count": 4,
   "metadata": {},
   "outputs": [
    {
     "name": "stdout",
     "output_type": "stream",
     "text": [
      "837799\n"
     ]
    }
   ],
   "source": [
    "def collatz(a):\n",
    "    mylist = []\n",
    "    mylist.append(a)\n",
    "    for _ in range(0, 1000000):\n",
    "        if a != 1:\n",
    "            if a % 2 == 0:\n",
    "                a = a/2\n",
    "                mylist.append(a)\n",
    "            else:\n",
    "                a = 3*a + 1\n",
    "                mylist.append(a)\n",
    "        else:\n",
    "            break\n",
    "    return len(mylist)\n",
    "\n",
    "for num in range(2, 1000000):\n",
    "    if collatz(num) == 525:\n",
    "        print(num)\n",
    "    else:\n",
    "        pass\n",
    "    "
   ]
  },
  {
   "cell_type": "code",
   "execution_count": null,
   "metadata": {},
   "outputs": [],
   "source": []
  }
 ],
 "metadata": {
  "kernelspec": {
   "display_name": "Python 3",
   "language": "python",
   "name": "python3"
  },
  "language_info": {
   "codemirror_mode": {
    "name": "ipython",
    "version": 3
   },
   "file_extension": ".py",
   "mimetype": "text/x-python",
   "name": "python",
   "nbconvert_exporter": "python",
   "pygments_lexer": "ipython3",
   "version": "3.7.1"
  }
 },
 "nbformat": 4,
 "nbformat_minor": 2
}
