{
 "cells": [
  {
   "cell_type": "code",
   "execution_count": null,
   "metadata": {},
   "outputs": [],
   "source": [
    "firstline = input()\n",
    "secondline = input()\n",
    "firstset = []\n",
    "secondset = []\n",
    "\n",
    "for x in firstline:\n",
    "    firstset.append(x)\n",
    "    \n",
    "for i in secondline:\n",
    "    secondset.append(i)\n",
    "\n",
    "firstset.sort()\n",
    "secondset.sort()\n",
    "    \n",
    "if secondset.count('*') >= 1:\n",
    "    num = secondset.count('*')\n",
    "    for _ in range(0, num):\n",
    "        secondset.remove('*')\n",
    "\n",
    "checkset = []\n",
    "for _ in range(0, len(secondset)):\n",
    "    for x in secondset:\n",
    "        if x in firstset:\n",
    "            checkset.append(True)\n",
    "        else:\n",
    "            checkset.append(False)\n",
    "    \n",
    "if False in checkset:\n",
    "    print('N')\n",
    "else:\n",
    "    print('A')\n"
   ]
  }
 ],
 "metadata": {
  "kernelspec": {
   "display_name": "Python 3",
   "language": "python",
   "name": "python3"
  },
  "language_info": {
   "codemirror_mode": {
    "name": "ipython",
    "version": 3
   },
   "file_extension": ".py",
   "mimetype": "text/x-python",
   "name": "python",
   "nbconvert_exporter": "python",
   "pygments_lexer": "ipython3",
   "version": "3.7.1"
  }
 },
 "nbformat": 4,
 "nbformat_minor": 2
}
