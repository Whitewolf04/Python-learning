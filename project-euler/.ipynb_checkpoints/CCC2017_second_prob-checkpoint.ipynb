{
 "cells": [
  {
   "cell_type": "code",
   "execution_count": 15,
   "metadata": {},
   "outputs": [
    {
     "name": "stdout",
     "output_type": "stream",
     "text": [
      "20\n",
      "433206 261286 537909 716304 389755 965367 175665 727734 889449 883801 680943 362118 119781 34811 239822 17209 657961 200383 887810 153147\n",
      "[17209, 34811, 119781, 153147, 175665, 200383, 239822, 261286, 362118, 389755, 433206, 537909, 657961, 680943, 716304, 727734, 883801, 887810, 889449, 965367]\n",
      "[389755, 433206, 362118, 537909, 261286, 657961, 239822, 680943, 200383, 716304, 175665, 727734, 153147, 883801, 119781, 887810, 34811, 889449, 17209, 965367]\n"
     ]
    }
   ],
   "source": [
    "N = int(input())\n",
    "mylist = input().split()\n",
    "anotherlist = []\n",
    "\n",
    "for n in mylist:\n",
    "    anotherlist.append(int(n))\n",
    "    \n",
    "finalist = []    \n",
    "anotherlist.sort()\n",
    "\n",
    "for x in range(0, N):\n",
    "    if len(anotherlist) == 0:\n",
    "        break\n",
    "    else:\n",
    "        finalist.append(anotherlist[-1])\n",
    "        finalist.append(anotherlist[0])\n",
    "        anotherlist.pop(0)\n",
    "        anotherlist.pop(-1)\n",
    "\n",
    "print(finalist[::-1])"
   ]
  },
  {
   "cell_type": "markdown",
   "metadata": {},
   "source": []
  }
 ],
 "metadata": {
  "kernelspec": {
   "display_name": "Python 3",
   "language": "python",
   "name": "python3"
  },
  "language_info": {
   "codemirror_mode": {
    "name": "ipython",
    "version": 3
   },
   "file_extension": ".py",
   "mimetype": "text/x-python",
   "name": "python",
   "nbconvert_exporter": "python",
   "pygments_lexer": "ipython3",
   "version": "3.7.1"
  }
 },
 "nbformat": 4,
 "nbformat_minor": 2
}
