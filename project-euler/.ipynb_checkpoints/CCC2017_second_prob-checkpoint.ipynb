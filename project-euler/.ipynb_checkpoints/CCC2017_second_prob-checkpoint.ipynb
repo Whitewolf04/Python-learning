{
 "cells": [
  {
   "cell_type": "code",
   "execution_count": 12,
   "metadata": {},
   "outputs": [
    {
     "name": "stdout",
     "output_type": "stream",
     "text": [
      "5\n",
      "45 56 67 78 89\n",
      "[45, 56, 67, 78, 89]\n"
     ]
    }
   ],
   "source": [
    "N = input()\n",
    "mylist = input().split()\n",
    "anotherlist = []\n",
    "\n",
    "for n in mylist:\n",
    "    anotherlist.append(int(n))\n",
    "    \n",
    "def order(a):\n",
    "    for num in a:\n",
    "        "
   ]
  },
  {
   "cell_type": "markdown",
   "metadata": {},
   "source": []
  }
 ],
 "metadata": {
  "kernelspec": {
   "display_name": "Python 3",
   "language": "python",
   "name": "python3"
  },
  "language_info": {
   "codemirror_mode": {
    "name": "ipython",
    "version": 3
   },
   "file_extension": ".py",
   "mimetype": "text/x-python",
   "name": "python",
   "nbconvert_exporter": "python",
   "pygments_lexer": "ipython3",
   "version": "3.7.1"
  }
 },
 "nbformat": 4,
 "nbformat_minor": 2
}
