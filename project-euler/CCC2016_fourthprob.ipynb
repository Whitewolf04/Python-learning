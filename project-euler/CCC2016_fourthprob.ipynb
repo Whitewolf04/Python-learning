{
 "cells": [
  {
   "cell_type": "code",
   "execution_count": 13,
   "metadata": {},
   "outputs": [
    {
     "name": "stdout",
     "output_type": "stream",
     "text": [
      "10\n",
      "1 2 1 2 1 2 1 2 1 2\n",
      "13\n"
     ]
    }
   ],
   "source": [
    "firstline = input().split()\n",
    "secondline = input().split()\n",
    "total = int(firstline[0])\n",
    "ricelist = []\n",
    "\n",
    "for item in secondline:\n",
    "    ricelist.append(int(item))\n",
    "\n",
    "def adjacent(a):\n",
    "    for i, s in enumerate(a):\n",
    "        for i2, s2 in enumerate(a):\n",
    "            if s2 == s and i == i2+1:\n",
    "                a.remove(s)\n",
    "                s = s + s2\n",
    "                a.insert(i, s)\n",
    "                a.remove(s2)\n",
    "            elif s2 == s and i == i2-1:\n",
    "                a.remove(s)\n",
    "                s += s2\n",
    "                a.insert(i, s)\n",
    "                a.remove(s2)\n",
    "            else:\n",
    "                pass\n",
    "    return a\n",
    "\n",
    "def between(a):\n",
    "    for i, s in enumerate(a):\n",
    "        for i2, s2 in enumerate(a):\n",
    "            if s2 == s and i == i2-2:\n",
    "                i3 = i2 - 1\n",
    "                a.remove(s)\n",
    "                s = s + s2 + a[i]\n",
    "                a.insert(i, s)\n",
    "                a.remove(s2)\n",
    "                a.remove(a[i3])\n",
    "            elif s2 == s and i == i2+2:\n",
    "                i4 = i2 + 1\n",
    "                a.remove(s)\n",
    "                s = s + s2 + a[i4]\n",
    "                a.insert(i, s)\n",
    "                a.remove(s2)\n",
    "                a.remove(a[i4])\n",
    "            else:\n",
    "                pass\n",
    "    return a\n",
    "\n",
    "for _ in range(0, 1000):\n",
    "    #adjacent(ricelist)\n",
    "    between(ricelist)\n",
    "    \n",
    "print(max(ricelist))\n"
   ]
  },
  {
   "cell_type": "code",
   "execution_count": null,
   "metadata": {},
   "outputs": [],
   "source": []
  }
 ],
 "metadata": {
  "kernelspec": {
   "display_name": "Python 3",
   "language": "python",
   "name": "python3"
  },
  "language_info": {
   "codemirror_mode": {
    "name": "ipython",
    "version": 3
   },
   "file_extension": ".py",
   "mimetype": "text/x-python",
   "name": "python",
   "nbconvert_exporter": "python",
   "pygments_lexer": "ipython3",
   "version": "3.7.1"
  }
 },
 "nbformat": 4,
 "nbformat_minor": 2
}
