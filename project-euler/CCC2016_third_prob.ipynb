{
 "cells": [
  {
   "cell_type": "code",
   "execution_count": 7,
   "metadata": {},
   "outputs": [
    {
     "name": "stdout",
     "output_type": "stream",
     "text": [
      "8 2\n",
      "5 2\n",
      "0 1\n",
      "0 2\n",
      "2 3\n",
      "4 3\n",
      "1 5\n",
      "6 1\n",
      "7 3\n",
      "[('0', '1'), ('0', '2'), ('2', '3'), ('4', '3'), ('1', '5'), ('6', '1'), ('7', '3')]\n",
      "{'0': '2', '2': '3', '4': '3', '1': '5', '6': '1', '7': '3'}\n"
     ]
    }
   ],
   "source": [
    "firstline = input().split()\n",
    "secondline = input().split()\n",
    "firstlist = []\n",
    "roadlisttemp = []\n",
    "pho_rest = []\n",
    "\n",
    "for N in firstline:\n",
    "    firstlist.append(int(N))\n",
    "    \n",
    "for M in secondline:\n",
    "    pho_rest.append(M)\n",
    "\n",
    "total = firstlist[0]\n",
    "Pho = firstlist[1]\n",
    "\n",
    "#Setting up the map of restaurants\n",
    "for _ in range(1, total):\n",
    "    road = input().split()\n",
    "    roadlisttemp.append(tuple(road))\n",
    "    \n",
    "print(roadlisttemp)\n",
    "    \n",
    "roadlist = dict(roadlisttemp)\n",
    "print(roadlist)"
   ]
  },
  {
   "cell_type": "code",
   "execution_count": null,
   "metadata": {},
   "outputs": [],
   "source": []
  }
 ],
 "metadata": {
  "kernelspec": {
   "display_name": "Python 3",
   "language": "python",
   "name": "python3"
  },
  "language_info": {
   "codemirror_mode": {
    "name": "ipython",
    "version": 3
   },
   "file_extension": ".py",
   "mimetype": "text/x-python",
   "name": "python",
   "nbconvert_exporter": "python",
   "pygments_lexer": "ipython3",
   "version": "3.7.1"
  }
 },
 "nbformat": 4,
 "nbformat_minor": 2
}
