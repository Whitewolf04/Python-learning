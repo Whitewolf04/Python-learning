{
 "cells": [
  {
   "cell_type": "code",
   "execution_count": 10,
   "metadata": {},
   "outputs": [
    {
     "name": "stdout",
     "output_type": "stream",
     "text": [
      "104743\n"
     ]
    }
   ],
   "source": [
    "primelist = []\n",
    "\n",
    "def checkPrime(num):\n",
    "    for i in range(2, num):\n",
    "        if num%i==0:\n",
    "            break\n",
    "    else:\n",
    "        return True\n",
    "    \n",
    "        \n",
    "for x in range(3, 1000000000):\n",
    "    if checkPrime(x) == True:\n",
    "        primelist.append(x)\n",
    "        if len(primelist) == 10002:\n",
    "            break\n",
    "        else:\n",
    "            continue\n",
    "    else:\n",
    "        continue\n",
    "        \n",
    "print(primelist[9999])"
   ]
  },
  {
   "cell_type": "code",
   "execution_count": null,
   "metadata": {},
   "outputs": [],
   "source": []
  }
 ],
 "metadata": {
  "kernelspec": {
   "display_name": "Python 3",
   "language": "python",
   "name": "python3"
  },
  "language_info": {
   "codemirror_mode": {
    "name": "ipython",
    "version": 3
   },
   "file_extension": ".py",
   "mimetype": "text/x-python",
   "name": "python",
   "nbconvert_exporter": "python",
   "pygments_lexer": "ipython3",
   "version": "3.7.1"
  }
 },
 "nbformat": 4,
 "nbformat_minor": 2
}
