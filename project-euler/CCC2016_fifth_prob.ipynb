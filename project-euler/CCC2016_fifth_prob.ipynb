{
 "cells": [
  {
   "cell_type": "code",
   "execution_count": null,
   "metadata": {},
   "outputs": [],
   "source": [
    "firstline = input().split()\n",
    "secondline = input().split()\n",
    "cellnum = int(firstline[0])\n",
    "generation = int(firstline[1])\n",
    "celllist = \"\"\n",
    "\n",
    "for cell in firstline:\n",
    "    celllist += cell\n",
    "\n",
    "def deadoralive(a):\n",
    "    "
   ]
  }
 ],
 "metadata": {
  "kernelspec": {
   "display_name": "Python 3",
   "language": "python",
   "name": "python3"
  },
  "language_info": {
   "codemirror_mode": {
    "name": "ipython",
    "version": 3
   },
   "file_extension": ".py",
   "mimetype": "text/x-python",
   "name": "python",
   "nbconvert_exporter": "python",
   "pygments_lexer": "ipython3",
   "version": "3.7.1"
  }
 },
 "nbformat": 4,
 "nbformat_minor": 2
}
