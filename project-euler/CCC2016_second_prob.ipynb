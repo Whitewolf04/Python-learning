{
 "cells": [
  {
   "cell_type": "code",
   "execution_count": 19,
   "metadata": {},
   "outputs": [
    {
     "name": "stdout",
     "output_type": "stream",
     "text": [
      "2\n",
      "100\n",
      "2960 11034 14443 21445 22999 24806 50127 62145 67535 75360 84817 85404 108563 122799 143107 158855 166253 166693 170683 183134 190146 196348 200047 209564 220561 231052 250439 251008 255278 260282 268072 274271 279123 296904 297538 317405 328008 332896 361349 387407 400265 400596 425049 425961 437127 445791 447068 449775 451196 456318 462418 462568 475168 481442 481732 509268 514893 526238 542255 552262 556770 595899 605525 642128 654964 660223 666269 672384 673794 675763 676857 679881 681551 693588 695309 746874 764282 765559 767298 782273 783568 787595 805182 826506 831792 836923 847342 851373 855476 861245 888787 890192 894325 902607 946656 957284 964815 971281 996919 997405\n",
      "986797 986289 979654 972239 970930 966421 960963 957671 957212 956528 939271 934410 931853 919964 917553 910293 893759 892485 870117 845195 828245 806095 790547 782599 780824 768913 764075 759800 756367 749695 700316 691508 666832 664518 664378 663237 644506 636329 635431 634458 629674 616883 611770 590498 583489 557108 554953 549959 543249 515461 513671 500362 500306 496429 492571 481957 480715 469996 469603 467386 465102 447751 441999 416274 407256 399289 398789 367304 361001 349642 347144 332132 330778 313202 301044 295850 286954 279368 278786 278113 272300 269209 262459 253667 249267 196754 191240 172653 132982 132619 123807 110409 107143 71260 60881 56211 54570 41498 30795 16010\n",
      "75394040\n"
     ]
    }
   ],
   "source": [
    "questype = int(input())\n",
    "pair = int(input())\n",
    "Dmojistan = input().split()\n",
    "Pegland = input().split()\n",
    "Dmojistan_speed = []\n",
    "Pegland_speed = []\n",
    "\n",
    "for x in Dmojistan:\n",
    "    Dmojistan_speed.append(int(x))\n",
    "\n",
    "for y in Pegland:\n",
    "    Pegland_speed.append(int(y))\n",
    "\n",
    "def quest1(a, b):\n",
    "    mylist = []\n",
    "    summary = 0\n",
    "    for _ in range(0, pair):\n",
    "        i = max(a)\n",
    "        j = max(b)\n",
    "        speed = tuple([i, j])\n",
    "        mylist.append(speed)\n",
    "        a.remove(i)\n",
    "        b.remove(j)\n",
    "    for x in mylist:\n",
    "        summary += max(x)\n",
    "    return summary\n",
    "\n",
    "def quest2(a, b):\n",
    "    mylist = []\n",
    "    summary = 0\n",
    "    for _ in range(0, pair):\n",
    "        i = min(a)\n",
    "        j = max(b)\n",
    "        speed = tuple([i, j])\n",
    "        mylist.append(speed)\n",
    "        a.remove(i)\n",
    "        b.remove(j)\n",
    "    for x in mylist:\n",
    "        summary += max(x)\n",
    "    return summary\n",
    "\n",
    "def main(a):\n",
    "    if a == 1:\n",
    "        print(quest1(Dmojistan_speed, Pegland_speed))\n",
    "    else:\n",
    "        print(quest2(Dmojistan_speed, Pegland_speed))\n",
    "        \n",
    "main(questype)"
   ]
  },
  {
   "cell_type": "code",
   "execution_count": null,
   "metadata": {},
   "outputs": [],
   "source": []
  }
 ],
 "metadata": {
  "kernelspec": {
   "display_name": "Python 3",
   "language": "python",
   "name": "python3"
  },
  "language_info": {
   "codemirror_mode": {
    "name": "ipython",
    "version": 3
   },
   "file_extension": ".py",
   "mimetype": "text/x-python",
   "name": "python",
   "nbconvert_exporter": "python",
   "pygments_lexer": "ipython3",
   "version": "3.7.1"
  }
 },
 "nbformat": 4,
 "nbformat_minor": 2
}
