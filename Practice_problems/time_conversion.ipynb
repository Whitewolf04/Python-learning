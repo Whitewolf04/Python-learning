{
 "cells": [
  {
   "cell_type": "code",
   "execution_count": 7,
   "metadata": {},
   "outputs": [
    {
     "name": "stdout",
     "output_type": "stream",
     "text": [
      "12:05:45PM\n",
      "12:05:45\n"
     ]
    }
   ],
   "source": [
    "time = input().split(\":\")\n",
    "\n",
    "def PM(sth):\n",
    "    if sth[0] != \"12\":\n",
    "        sth[0] = int(sth[0]) + 12\n",
    "    else:\n",
    "        pass\n",
    "    return sth\n",
    "\n",
    "realtime = []\n",
    "\n",
    "for stuff in time:\n",
    "    if \"AM\" in stuff:\n",
    "        realtime.append(stuff[:2])\n",
    "        if realtime[0] == \"12\":\n",
    "            realtime[0] = \"00\"\n",
    "        else:\n",
    "            pass\n",
    "    elif \"PM\" in stuff:\n",
    "        realtime.append(stuff[:2])\n",
    "        PM(realtime)\n",
    "    else:\n",
    "        realtime.append(stuff)\n",
    "\n",
    "print(f'{realtime[0]}:{realtime[1]}:{realtime[2]}')\n",
    "        "
   ]
  },
  {
   "cell_type": "code",
   "execution_count": null,
   "metadata": {},
   "outputs": [],
   "source": []
  }
 ],
 "metadata": {
  "kernelspec": {
   "display_name": "Python 3",
   "language": "python",
   "name": "python3"
  },
  "language_info": {
   "codemirror_mode": {
    "name": "ipython",
    "version": 3
   },
   "file_extension": ".py",
   "mimetype": "text/x-python",
   "name": "python",
   "nbconvert_exporter": "python",
   "pygments_lexer": "ipython3",
   "version": "3.7.1"
  }
 },
 "nbformat": 4,
 "nbformat_minor": 2
}
