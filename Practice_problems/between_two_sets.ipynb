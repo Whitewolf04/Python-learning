{
 "cells": [
  {
   "cell_type": "code",
   "execution_count": 7,
   "metadata": {},
   "outputs": [
    {
     "name": "stdout",
     "output_type": "stream",
     "text": [
      "2 3\n",
      "2 4\n",
      "16 32 96\n",
      "[4, 5, 6, 7, 8, 9, 10, 11, 12, 13, 14, 15, 16]\n",
      "[4, 6, 8, 10, 12, 14, 16]\n"
     ]
    }
   ],
   "source": [
    "def checkPrime(num):\n",
    "    for i in range(2, num):\n",
    "        if num%i==0:\n",
    "            break\n",
    "    else:\n",
    "        return True\n",
    "    \n",
    "def primeList():\n",
    "    mylist = []\n",
    "    for num in range(3, 1000000):\n",
    "        if checkPrime(num) == True:\n",
    "            mylist.append(num)\n",
    "        else:\n",
    "            continue\n",
    "    \n",
    "firstline = input().split()\n",
    "secondline = input().split()\n",
    "thirdline = input().split()\n",
    "length = []\n",
    "firstArray = []\n",
    "secondArray = []\n",
    "\n",
    "for sth in firstline:\n",
    "    length.append(int(sth))\n",
    "    \n",
    "for sth1 in secondline:\n",
    "    firstArray.append(int(sth1))\n",
    "    \n",
    "for sth2 in thirdline:\n",
    "    secondArray.append(int(sth2))\n",
    "    \n",
    "mylist = []\n",
    "for x in range(0, 1000000):\n",
    "    if x >= max(firstArray) and x <= min(secondArray):\n",
    "        mylist.append(x)\n",
    "    else:\n",
    "        continue\n",
    "        \n",
    "print(mylist)\n",
    "        \n",
    "for abc in mylist:\n",
    "    for x in firstArray:\n",
    "        if abc % x != 0:\n",
    "            mylist.remove(abc)\n",
    "        else:\n",
    "            mylist.remove(abc)\n",
    "    for y in secondArray:\n",
    "        if y % abc == 0:\n",
    "            pass\n",
    "        else:\n",
    "            if abc in mylist:\n",
    "                mylist.remove(abc)\n",
    "            else:\n",
    "                continue\n",
    "            \n",
    "print(mylist)\n"
   ]
  },
  {
   "cell_type": "code",
   "execution_count": null,
   "metadata": {},
   "outputs": [],
   "source": []
  }
 ],
 "metadata": {
  "kernelspec": {
   "display_name": "Python 3",
   "language": "python",
   "name": "python3"
  },
  "language_info": {
   "codemirror_mode": {
    "name": "ipython",
    "version": 3
   },
   "file_extension": ".py",
   "mimetype": "text/x-python",
   "name": "python",
   "nbconvert_exporter": "python",
   "pygments_lexer": "ipython3",
   "version": "3.7.1"
  }
 },
 "nbformat": 4,
 "nbformat_minor": 2
}
