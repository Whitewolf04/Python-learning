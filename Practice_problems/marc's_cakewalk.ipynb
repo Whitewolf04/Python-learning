{
 "cells": [
  {
   "cell_type": "code",
   "execution_count": 10,
   "metadata": {},
   "outputs": [
    {
     "name": "stdout",
     "output_type": "stream",
     "text": [
      "4\n",
      "7 4 9 6\n",
      "79\n"
     ]
    }
   ],
   "source": [
    "cake = int(input())\n",
    "calories = input().split()\n",
    "miles = 0\n",
    "\n",
    "calories_list = [int(num) for num in calories]\n",
    "exponent = [things for things in range(0, cake)]\n",
    "final_list = zip(sorted(calories_list)[::-1], exponent)\n",
    "\n",
    "for i, n in final_list:\n",
    "    miles += 2**n * i\n",
    "\n",
    "print(miles)"
   ]
  },
  {
   "cell_type": "code",
   "execution_count": null,
   "metadata": {},
   "outputs": [],
   "source": []
  }
 ],
 "metadata": {
  "kernelspec": {
   "display_name": "Python 3",
   "language": "python",
   "name": "python3"
  },
  "language_info": {
   "codemirror_mode": {
    "name": "ipython",
    "version": 3
   },
   "file_extension": ".py",
   "mimetype": "text/x-python",
   "name": "python",
   "nbconvert_exporter": "python",
   "pygments_lexer": "ipython3",
   "version": "3.7.1"
  }
 },
 "nbformat": 4,
 "nbformat_minor": 2
}
