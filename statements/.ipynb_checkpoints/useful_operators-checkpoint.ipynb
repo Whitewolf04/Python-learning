{
 "cells": [
  {
   "cell_type": "markdown",
   "metadata": {},
   "source": [
    "Range operator:"
   ]
  },
  {
   "cell_type": "code",
   "execution_count": 5,
   "metadata": {},
   "outputs": [
    {
     "name": "stdout",
     "output_type": "stream",
     "text": [
      "3\n",
      "2\n",
      "4\n",
      "6\n",
      "8\n"
     ]
    }
   ],
   "source": [
    "for num in range(3, 17):\n",
    "    print(num)\n",
    "    if num >= 3:\n",
    "        break\n",
    "    \n",
    "for num in range(2, 10, 2):\n",
    "    print(num)"
   ]
  },
  {
   "cell_type": "markdown",
   "metadata": {},
   "source": [
    "Enumerate operator:"
   ]
  },
  {
   "cell_type": "code",
   "execution_count": 10,
   "metadata": {},
   "outputs": [
    {
     "name": "stdout",
     "output_type": "stream",
     "text": [
      "This letter U is in this position 0.\n",
      "(0, 'U')\n",
      "U\n"
     ]
    }
   ],
   "source": [
    "word = \"Ui doi oi de vai lon may thang oat con!\"\n",
    "index_count = 0\n",
    "\n",
    "for letter in word:\n",
    "    print(\"This letter {} is in this position {}.\".format(letter, index_count))\n",
    "    index_count += 1\n",
    "    if index_count == 1:\n",
    "        break\n",
    "#not using enumerate\n",
    "\n",
    "for item in enumerate(word):\n",
    "    print(item)\n",
    "    break\n",
    "\n",
    "for count, item in enumerate(word):\n",
    "    print(item)\n",
    "    break"
   ]
  },
  {
   "cell_type": "markdown",
   "metadata": {},
   "source": [
    "Zip operator:"
   ]
  },
  {
   "cell_type": "code",
   "execution_count": 16,
   "metadata": {},
   "outputs": [
    {
     "name": "stdout",
     "output_type": "stream",
     "text": [
      "1 Bomman\n",
      "Head\n",
      "2 Benten\n",
      "Support\n",
      "3 APho\n",
      "Troller\n",
      "4 Minh Popper\n",
      "Dick\n"
     ]
    },
    {
     "data": {
      "text/plain": [
       "[('Bomman', 'Head', 1),\n",
       " ('Benten', 'Support', 2),\n",
       " ('APho', 'Troller', 3),\n",
       " ('Minh Popper', 'Dick', 4)]"
      ]
     },
     "execution_count": 16,
     "metadata": {},
     "output_type": "execute_result"
    }
   ],
   "source": [
    "list1 = [\"Bomman\", \"Benten\", \"APho\", \"Minh Popper\", \"TungTT\"]\n",
    "list2 = [\"Head\", \"Support\", \"Troller\", \"Dick\"]\n",
    "list3 = [1, 2, 3, 4]\n",
    "\n",
    "for name, position, num in zip(list1, list2, list3):\n",
    "    print(num, name)\n",
    "    print(position)\n",
    "\n",
    "list(zip(list1, list2, list3))"
   ]
  },
  {
   "cell_type": "markdown",
   "metadata": {},
   "source": [
    "\"in\" operator:"
   ]
  },
  {
   "cell_type": "code",
   "execution_count": 18,
   "metadata": {},
   "outputs": [
    {
     "data": {
      "text/plain": [
       "True"
      ]
     },
     "execution_count": 18,
     "metadata": {},
     "output_type": "execute_result"
    }
   ],
   "source": [
    "\"W\" in \"Hello World\"\n",
    "#Can check in many other data structures like dictionaries or lists, ..."
   ]
  },
  {
   "cell_type": "markdown",
   "metadata": {},
   "source": [
    "min and max operator:"
   ]
  },
  {
   "cell_type": "code",
   "execution_count": 19,
   "metadata": {},
   "outputs": [
    {
     "name": "stdout",
     "output_type": "stream",
     "text": [
      "12\n",
      "76\n"
     ]
    }
   ],
   "source": [
    "num_list = [12, 34, 54, 34, 65, 76]\n",
    "print(min(num_list))\n",
    "print(max(num_list))"
   ]
  },
  {
   "cell_type": "markdown",
   "metadata": {},
   "source": [
    "The random package in Python:"
   ]
  },
  {
   "cell_type": "code",
   "execution_count": 20,
   "metadata": {},
   "outputs": [
    {
     "name": "stdout",
     "output_type": "stream",
     "text": [
      "[54, 34, 76, 65, 34, 12]\n"
     ]
    }
   ],
   "source": [
    "from random import shuffle\n",
    "shuffle(num_list)\n",
    "print(num_list)"
   ]
  },
  {
   "cell_type": "code",
   "execution_count": 21,
   "metadata": {},
   "outputs": [
    {
     "data": {
      "text/plain": [
       "5"
      ]
     },
     "execution_count": 21,
     "metadata": {},
     "output_type": "execute_result"
    }
   ],
   "source": [
    "from random import randint\n",
    "randint(0, 20)"
   ]
  },
  {
   "cell_type": "markdown",
   "metadata": {},
   "source": [
    "User input operator:"
   ]
  },
  {
   "cell_type": "code",
   "execution_count": 28,
   "metadata": {},
   "outputs": [
    {
     "name": "stdout",
     "output_type": "stream",
     "text": [
      "What number do you want? 31242134123\n",
      "Wrong!\n"
     ]
    }
   ],
   "source": [
    "result = input(\"What number do you want? \")\n",
    "#input takes everything as a string\n",
    "\n",
    "if int(result)%2 == 0:\n",
    "    print(\"Correct!\")\n",
    "else:\n",
    "    print(\"Wrong!\")"
   ]
  },
  {
   "cell_type": "code",
   "execution_count": null,
   "metadata": {},
   "outputs": [],
   "source": []
  }
 ],
 "metadata": {
  "kernelspec": {
   "display_name": "Python 3",
   "language": "python",
   "name": "python3"
  },
  "language_info": {
   "codemirror_mode": {
    "name": "ipython",
    "version": 3
   },
   "file_extension": ".py",
   "mimetype": "text/x-python",
   "name": "python",
   "nbconvert_exporter": "python",
   "pygments_lexer": "ipython3",
   "version": "3.7.1"
  }
 },
 "nbformat": 4,
 "nbformat_minor": 2
}
