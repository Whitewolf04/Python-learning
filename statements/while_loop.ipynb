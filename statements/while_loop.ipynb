{
 "cells": [
  {
   "cell_type": "markdown",
   "metadata": {},
   "source": [
    "Fundamentals:"
   ]
  },
  {
   "cell_type": "code",
   "execution_count": 2,
   "metadata": {},
   "outputs": [
    {
     "name": "stdout",
     "output_type": "stream",
     "text": [
      "x is larger that 10!\n",
      "0\n"
     ]
    }
   ],
   "source": [
    "x = 20\n",
    "sum = 0\n",
    "\n",
    "while x < 10:\n",
    "    sum += x\n",
    "    x += 1\n",
    "else:\n",
    "    print(\"x is larger that 10!\")\n",
    "print(sum)"
   ]
  },
  {
   "cell_type": "markdown",
   "metadata": {},
   "source": [
    "While-loop syntax:\n",
    "- Break: Break out of the the current closest loop\n",
    "- Continue: Goes to the top of the closest loop\n",
    "- Pass: Does nothing"
   ]
  },
  {
   "cell_type": "code",
   "execution_count": 8,
   "metadata": {},
   "outputs": [
    {
     "name": "stdout",
     "output_type": "stream",
     "text": [
      "500bros studio: lelalelalela\n",
      "500bros studio: e-cigarette\n",
      "500bros studio: Benten\n",
      "500bros studio: Anh Bom\n",
      "Anh Bom\n",
      "Benten\n"
     ]
    }
   ],
   "source": [
    "somerandomshit = [\"lelalelalela\", \"flash tungtt\", \"e-cigarette\", \"Benten\", \"Anh Bom\"]\n",
    "\n",
    "for k in somerandomshit:\n",
    "    pass\n",
    "\n",
    "for n in somerandomshit:\n",
    "    if n == \"flash tungtt\":\n",
    "        continue\n",
    "    print(f'500bros studio: {n}')\n",
    "    \n",
    "somerandomshit.reverse()\n",
    "for sth in somerandomshit:\n",
    "    print(sth)\n",
    "    if sth == \"Benten\":\n",
    "        break"
   ]
  },
  {
   "cell_type": "code",
   "execution_count": null,
   "metadata": {},
   "outputs": [],
   "source": []
  }
 ],
 "metadata": {
  "kernelspec": {
   "display_name": "Python 3",
   "language": "python",
   "name": "python3"
  },
  "language_info": {
   "codemirror_mode": {
    "name": "ipython",
    "version": 3
   },
   "file_extension": ".py",
   "mimetype": "text/x-python",
   "name": "python",
   "nbconvert_exporter": "python",
   "pygments_lexer": "ipython3",
   "version": "3.7.1"
  }
 },
 "nbformat": 4,
 "nbformat_minor": 2
}
