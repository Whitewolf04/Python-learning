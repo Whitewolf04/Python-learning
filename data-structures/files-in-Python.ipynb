{
 "cells": [
  {
   "cell_type": "code",
   "execution_count": 2,
   "metadata": {},
   "outputs": [
    {
     "name": "stdout",
     "output_type": "stream",
     "text": [
      "Writing new_file.txt\n"
     ]
    }
   ],
   "source": [
    "%%writefile new_file.txt\n",
    "Hello  world\n",
    "this is the first time i learn Python\n",
    "It is pretty easy actually\n",
    "I hope I will win"
   ]
  },
  {
   "cell_type": "markdown",
   "metadata": {},
   "source": [
    "How to open a file in the same directory:"
   ]
  },
  {
   "cell_type": "code",
   "execution_count": 4,
   "metadata": {},
   "outputs": [],
   "source": [
    "myfile = open('new_file.txt')\n",
    "#This will not work if the name of the file is wrong or the file is not in the same directory as this work directory"
   ]
  },
  {
   "cell_type": "markdown",
   "metadata": {},
   "source": [
    "How to know which work directory is this:"
   ]
  },
  {
   "cell_type": "code",
   "execution_count": 5,
   "metadata": {},
   "outputs": [
    {
     "data": {
      "text/plain": [
       "'C:\\\\Users\\\\white'"
      ]
     },
     "execution_count": 5,
     "metadata": {},
     "output_type": "execute_result"
    }
   ],
   "source": [
    "pwd"
   ]
  },
  {
   "cell_type": "markdown",
   "metadata": {},
   "source": [
    "Methods available for files:"
   ]
  },
  {
   "cell_type": "code",
   "execution_count": 13,
   "metadata": {},
   "outputs": [
    {
     "name": "stdout",
     "output_type": "stream",
     "text": [
      "Hello  world\n",
      "this is the first time i learn Python\n",
      "It is pretty easy actually\n",
      "I hope I will win\n",
      "\n"
     ]
    }
   ],
   "source": [
    "myfile.read()\n",
    "#have to seek 0 to be able to read the file again\n",
    "myfile.seek(0)\n",
    "myfile.read()\n",
    "#or we can assign it to a variable\n",
    "myfile.seek(0)\n",
    "reading = myfile.read()\n",
    "print(reading)"
   ]
  },
  {
   "cell_type": "code",
   "execution_count": 17,
   "metadata": {},
   "outputs": [
    {
     "data": {
      "text/plain": [
       "['Hello  world\\n',\n",
       " 'this is the first time i learn Python\\n',\n",
       " 'It is pretty easy actually\\n',\n",
       " 'I hope I will win\\n']"
      ]
     },
     "execution_count": 17,
     "metadata": {},
     "output_type": "execute_result"
    }
   ],
   "source": [
    "myfile.seek(0)\n",
    "myfile.readlines()"
   ]
  },
  {
   "cell_type": "markdown",
   "metadata": {},
   "source": [
    "How to open file in another directory:"
   ]
  },
  {
   "cell_type": "code",
   "execution_count": 23,
   "metadata": {},
   "outputs": [
    {
     "name": "stdout",
     "output_type": "stream",
     "text": [
      "First Line\n",
      "Second Line\n"
     ]
    }
   ],
   "source": [
    "another_file = open('C:\\\\Users\\\\white\\\\Documents\\\\Complete-Python-3-Bootcamp\\\\00-Python Object and Data Structure Basics\\\\test.txt')\n",
    "another_reading = another_file.read()\n",
    "print(another_reading)"
   ]
  },
  {
   "cell_type": "markdown",
   "metadata": {},
   "source": [
    "Closing a file:"
   ]
  },
  {
   "cell_type": "code",
   "execution_count": 22,
   "metadata": {},
   "outputs": [],
   "source": [
    "myfile.close()\n",
    "another_file.close()"
   ]
  },
  {
   "cell_type": "markdown",
   "metadata": {},
   "source": [
    "Closing a file in a modern way:"
   ]
  },
  {
   "cell_type": "code",
   "execution_count": 27,
   "metadata": {},
   "outputs": [
    {
     "name": "stdout",
     "output_type": "stream",
     "text": [
      "Hello  world\n",
      "this is the first time i learn Python\n",
      "It is pretty easy actually\n",
      "I hope I will win\n",
      "\n",
      "so I'm studying\n"
     ]
    }
   ],
   "source": [
    "with open('new_file.txt') as myfile:\n",
    "    contents = myfile.read()\n",
    "print(contents)"
   ]
  },
  {
   "cell_type": "markdown",
   "metadata": {},
   "source": [
    "Modes of a file:\n",
    "- mode = 'r' -> read only\n",
    "- mode = 'w' -> write only (will overwrite files or create new)\n",
    "- mode = 'a' -> append only (will add onto files)\n",
    "- mode = 'r+' -> read & write\n",
    "- mode = 'w+' -> write & read (overwrite existing files or create new)"
   ]
  },
  {
   "cell_type": "markdown",
   "metadata": {},
   "source": [
    "How to change modes:"
   ]
  },
  {
   "cell_type": "code",
   "execution_count": 31,
   "metadata": {},
   "outputs": [
    {
     "name": "stdout",
     "output_type": "stream",
     "text": [
      "Hello  world\n",
      "this is the first time i learn Python\n",
      "It is pretty easy actually\n",
      "I hope I will win\n",
      "\n",
      "so I'm studying\n"
     ]
    }
   ],
   "source": [
    "with open('new_file.txt', mode = 'a') as myfile:\n",
    "    myfile.write(\"\\nso I'm studying\")\n",
    "print(contents)"
   ]
  },
  {
   "cell_type": "code",
   "execution_count": 37,
   "metadata": {},
   "outputs": [
    {
     "name": "stdout",
     "output_type": "stream",
     "text": [
      "I created this shit!\n"
     ]
    }
   ],
   "source": [
    "with open('random_shit.txt', mode='w+') as f:\n",
    "#also work with mode r+\n",
    "    f.write(\"I created this shit!\")\n",
    "    f.seek(0)\n",
    "    print(f.read())"
   ]
  },
  {
   "cell_type": "code",
   "execution_count": null,
   "metadata": {},
   "outputs": [],
   "source": []
  }
 ],
 "metadata": {
  "kernelspec": {
   "display_name": "Python 3",
   "language": "python",
   "name": "python3"
  },
  "language_info": {
   "codemirror_mode": {
    "name": "ipython",
    "version": 3
   },
   "file_extension": ".py",
   "mimetype": "text/x-python",
   "name": "python",
   "nbconvert_exporter": "python",
   "pygments_lexer": "ipython3",
   "version": "3.7.1"
  }
 },
 "nbformat": 4,
 "nbformat_minor": 2
}
