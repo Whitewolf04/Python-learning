{
 "cells": [
  {
   "cell_type": "code",
   "execution_count": 4,
   "metadata": {},
   "outputs": [
    {
     "name": "stdout",
     "output_type": "stream",
     "text": [
      "4.49\n"
     ]
    }
   ],
   "source": [
    "grocery_store = {'oranges':2.99, 'apple':4.49}\n",
    "print(grocery_store['apple'])"
   ]
  },
  {
   "cell_type": "markdown",
   "metadata": {},
   "source": [
    "dictionary with multiple type of variables:"
   ]
  },
  {
   "cell_type": "code",
   "execution_count": 19,
   "metadata": {},
   "outputs": [
    {
     "name": "stdout",
     "output_type": "stream",
     "text": [
      "SOMETHING FISHY\n",
      "6\n",
      "[8, 6, 5, 2, 0, 45]\n"
     ]
    }
   ],
   "source": [
    "my_dict = {'oranges':2.99, 'thelist':[0, 2, 5, 6, 8], 'anotherdict':{'inside':'something fishy'}}\n",
    "print(my_dict['anotherdict']['inside'].upper())\n",
    "print(my_dict['thelist'][3])\n",
    "my_dict['thelist'].reverse()\n",
    "my_dict['thelist'].append(45)\n",
    "print(my_dict['thelist'])"
   ]
  },
  {
   "cell_type": "markdown",
   "metadata": {},
   "source": [
    "How to append to a dictionary:"
   ]
  },
  {
   "cell_type": "code",
   "execution_count": 20,
   "metadata": {},
   "outputs": [
    {
     "name": "stdout",
     "output_type": "stream",
     "text": [
      "{'so1': 100, 'so2': 400, 'so3': 3459}\n"
     ]
    }
   ],
   "source": [
    "new_dict = {'so1':100, 'so2': 400}\n",
    "new_dict['so3'] = 3459\n",
    "print(new_dict)"
   ]
  },
  {
   "cell_type": "markdown",
   "metadata": {},
   "source": [
    "Dictionary methods:"
   ]
  },
  {
   "cell_type": "code",
   "execution_count": 24,
   "metadata": {},
   "outputs": [
    {
     "name": "stdout",
     "output_type": "stream",
     "text": [
      "dict_keys(['sothunhat', 'sothuhai', 'sothuba', 'sothutu'])\n",
      "dict_values([1, 2342, 34324, 32])\n",
      "dict_items([('sothunhat', 1), ('sothuhai', 2342), ('sothuba', 34324), ('sothutu', 32)])\n"
     ]
    }
   ],
   "source": [
    "another_dict = {'sothunhat':1, 'sothuhai':2342, 'sothuba':34324, 'sothutu':32}\n",
    "print(another_dict.keys())\n",
    "print(another_dict.values())\n",
    "print(another_dict.items())"
   ]
  },
  {
   "cell_type": "code",
   "execution_count": null,
   "metadata": {},
   "outputs": [],
   "source": []
  }
 ],
 "metadata": {
  "kernelspec": {
   "display_name": "Python 3",
   "language": "python",
   "name": "python3"
  },
  "language_info": {
   "codemirror_mode": {
    "name": "ipython",
    "version": 3
   },
   "file_extension": ".py",
   "mimetype": "text/x-python",
   "name": "python",
   "nbconvert_exporter": "python",
   "pygments_lexer": "ipython3",
   "version": "3.7.1"
  }
 },
 "nbformat": 4,
 "nbformat_minor": 2
}
