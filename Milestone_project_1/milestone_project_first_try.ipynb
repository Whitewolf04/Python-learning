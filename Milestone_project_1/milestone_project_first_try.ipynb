{
 "cells": [
  {
   "cell_type": "code",
   "execution_count": 16,
   "metadata": {},
   "outputs": [
    {
     "name": "stdout",
     "output_type": "stream",
     "text": [
      " X || O || X \n",
      " O || X || O \n",
      " X || O || X \n"
     ]
    }
   ],
   "source": [
    "def gameboard(board):\n",
    "    mot = board[1]\n",
    "    hai = board[2]\n",
    "    ba = board[3]\n",
    "    bon = board[4]\n",
    "    nam = board[5]\n",
    "    sau = board[6]\n",
    "    bay = board[7]\n",
    "    tam = board[8]\n",
    "    chin = board[9]\n",
    "    print(f' {bay} || {tam} || {chin} ')\n",
    "    print(f' {bon} || {nam} || {sau} ')\n",
    "    print(f' {mot} || {hai} || {ba} ')\n",
    "\n",
    "test_board = ['#', 'X', 'O', 'X', 'O', 'X', 'O', 'X', 'O', 'X']    \n",
    "gameboard(test_board)"
   ]
  },
  {
   "cell_type": "code",
   "execution_count": 17,
   "metadata": {},
   "outputs": [],
   "source": [
    "myboard = ['#', \"  \", \"  \", \"  \", \"  \", \"  \", \"  \", \"  \", \"  \", \"  \"]\n",
    "def player1(board):\n",
    "    position = int(input(\"Player 1: What box do you want? (pick a number from 1 to 9): \"))\n",
    "    board[position] = \" X\"\n",
    "    return board\n",
    "    \n",
    "def player2(board):\n",
    "    position = int(input(\"Player 2: What box do you want? (pick a number from 1 to 9)\"))\n",
    "    board[position] = \"O\"\n",
    "    return board"
   ]
  },
  {
   "cell_type": "code",
   "execution_count": 18,
   "metadata": {},
   "outputs": [],
   "source": [
    "def check(board):\n",
    "    if board[1] == board[2] == board[3] != \"  \":\n",
    "        return (True, board[1])\n",
    "    elif board[4] == board[5] == board[6] != \"  \":\n",
    "        return (True, board[4])\n",
    "    elif board[7] == board[8] == board[9] != \"  \":\n",
    "        return (True, board[7])\n",
    "    elif board[1] == board[4] == board[7] != \"  \":\n",
    "        return (True, board[1])\n",
    "    elif board[2] == board[5] == board[8] != \"  \":\n",
    "        return (True, board[2])\n",
    "    elif board[3] == board[6] == board[9] != \"  \":\n",
    "        return (True, board[3])\n",
    "    elif board[1] == board[5] == board[9] != \"  \":\n",
    "        return (True, board[1])\n",
    "    elif board[3] == board[5] == board[7] != \"  \":\n",
    "        return (True, board[3])\n",
    "    else:\n",
    "        return (False, \"#\")"
   ]
  },
  {
   "cell_type": "code",
   "execution_count": 19,
   "metadata": {},
   "outputs": [],
   "source": [
    "def main():\n",
    "    status = input(\"Are you ready? (y or n): \")\n",
    "    if status.lower() == \"y\":\n",
    "        for _ in range(0, 100):\n",
    "            if check(myboard) == (False, \"#\"):\n",
    "                player1(myboard)\n",
    "                gameboard(myboard)\n",
    "                player2(myboard)\n",
    "                gameboard(myboard)\n",
    "            else:\n",
    "                break\n",
    "        wincheck = check(myboard)\n",
    "        winner = \" \"\n",
    "        if wincheck[1] == \"X\":\n",
    "            winner = \"player 1\"\n",
    "        else:\n",
    "            winner = \"player 2\"\n",
    "        print(f'The winner is: {winner}')\n",
    "    else:\n",
    "        pass"
   ]
  },
  {
   "cell_type": "code",
   "execution_count": null,
   "metadata": {},
   "outputs": [],
   "source": []
  }
 ],
 "metadata": {
  "kernelspec": {
   "display_name": "Python 3",
   "language": "python",
   "name": "python3"
  },
  "language_info": {
   "codemirror_mode": {
    "name": "ipython",
    "version": 3
   },
   "file_extension": ".py",
   "mimetype": "text/x-python",
   "name": "python",
   "nbconvert_exporter": "python",
   "pygments_lexer": "ipython3",
   "version": "3.7.1"
  }
 },
 "nbformat": 4,
 "nbformat_minor": 2
}
